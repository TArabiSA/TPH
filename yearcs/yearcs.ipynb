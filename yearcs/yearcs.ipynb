{
  "cells": [
    {
      "cell_type": "code",
      "execution_count": null,
      "metadata": {
        "id": "N0m8TwwbO6I1"
      },
      "outputs": [],
      "source": [
        "import math\n",
        "import numpy as np\n",
        "import pandas as pd\n",
        "import tensorflow as tf\n",
        "import os\n",
        "import matplotlib.pyplot as plt\n",
        "from tensorflow import keras\n"
      ]
    },
    {
      "cell_type": "code",
      "execution_count": null,
      "metadata": {
        "id": "Mk7Mgx3HSQic"
      },
      "outputs": [],
      "source": [
        "df = pd.read_csv('C:/Users/yakul/mutipage/data/year.csv',index_col='Date',parse_dates=True)\n",
        "df.index.frequency='MS'\n"
      ]
    },
    {
      "cell_type": "code",
      "execution_count": null,
      "metadata": {
        "colab": {
          "base_uri": "https://localhost:8080/",
          "height": 551
        },
        "id": "4UV_rpuAVGH-",
        "outputId": "4f017549-3580-4ea5-8a29-d655e336d833"
      },
      "outputs": [],
      "source": [
        "df\n"
      ]
    },
    {
      "cell_type": "code",
      "execution_count": null,
      "metadata": {
        "colab": {
          "base_uri": "https://localhost:8080/"
        },
        "id": "y69R5bMwVKOa",
        "outputId": "061066cd-49bf-43db-91dc-060d83c449b3"
      },
      "outputs": [],
      "source": [
        "df.shape"
      ]
    },
    {
      "cell_type": "code",
      "execution_count": null,
      "metadata": {
        "colab": {
          "base_uri": "https://localhost:8080/",
          "height": 436
        },
        "id": "jrshlMTBVRZU",
        "outputId": "fb984f84-b911-4735-fb85-6bcc4f979cfd"
      },
      "outputs": [],
      "source": [
        "plt.figure(figsize=(12,6))\n",
        "plt.title('Sale Price History')\n",
        "plt.plot(df['Sale'])\n",
        "plt.xlabel('Date', fontsize = 12)\n",
        "plt.ylabel('Sale Price PESO(₱)', fontsize = 12)\n",
        "plt.show()"
      ]
    },
    {
      "cell_type": "code",
      "execution_count": null,
      "metadata": {
        "colab": {
          "base_uri": "https://localhost:8080/"
        },
        "id": "pCT3-QoXWk85",
        "outputId": "f10c3024-ecc2-4034-e4dc-ac22912f179b"
      },
      "outputs": [],
      "source": [
        "data = df.filter(['Sale'])\n",
        "dataset = data.values\n",
        "training_data_len = math.ceil( len(dataset) * .7)\n",
        "training_data_len"
      ]
    },
    {
      "cell_type": "code",
      "execution_count": null,
      "metadata": {},
      "outputs": [],
      "source": [
        "ma3 = df.Sale.rolling(3).mean()\n",
        "ma3"
      ]
    },
    {
      "cell_type": "code",
      "execution_count": null,
      "metadata": {},
      "outputs": [],
      "source": [
        "\n",
        "plt.figure(figsize = (12,6))\n",
        "plt.plot(df.Sale)\n",
        "plt.plot(ma3, \"r\")"
      ]
    },
    {
      "cell_type": "code",
      "execution_count": null,
      "metadata": {
        "colab": {
          "base_uri": "https://localhost:8080/"
        },
        "id": "0lzNLUePXUhm",
        "outputId": "4fef06cb-89b4-47da-b5a1-87da94bf60b2"
      },
      "outputs": [],
      "source": [
        "from sklearn.preprocessing import MinMaxScaler\n",
        "scaler = MinMaxScaler(feature_range=(0,1))\n",
        "scaled_data = scaler.fit_transform(dataset)\n",
        "scaled_data"
      ]
    },
    {
      "cell_type": "code",
      "execution_count": null,
      "metadata": {
        "colab": {
          "base_uri": "https://localhost:8080/"
        },
        "id": "F9BDCrPQXrO_",
        "outputId": "74c685fa-5e1e-4ac3-924b-39c271c8902d"
      },
      "outputs": [],
      "source": [
        "train_data = scaled_data[0:training_data_len , :]\n",
        "x_train = []\n",
        "y_train = []\n",
        "\n",
        "for i in range(3, len(train_data)):\n",
        "  x_train.append(train_data[i-3:i, 0])\n",
        "  y_train.append(train_data[i, 0])\n",
        "  if i<= 4:\n",
        "    print(x_train)\n",
        "    print(y_train)\n",
        "    print()"
      ]
    },
    {
      "cell_type": "code",
      "execution_count": null,
      "metadata": {
        "id": "ZUvyzW3SYr1A"
      },
      "outputs": [],
      "source": [
        "x_train, y_train = np.array(x_train), np.array(y_train)"
      ]
    },
    {
      "cell_type": "code",
      "execution_count": null,
      "metadata": {
        "colab": {
          "base_uri": "https://localhost:8080/"
        },
        "id": "txB4zNr-ZtBi",
        "outputId": "d5296bad-e102-46a4-e01d-9580eb5221b1"
      },
      "outputs": [],
      "source": [
        "x_train.shape"
      ]
    },
    {
      "cell_type": "code",
      "execution_count": null,
      "metadata": {
        "colab": {
          "base_uri": "https://localhost:8080/"
        },
        "id": "iWcDiE7dZ0Zs",
        "outputId": "f0408af8-2198-4696-8669-599aacc3360b"
      },
      "outputs": [],
      "source": [
        "# Reshape the data\n",
        "x_train = np.reshape(x_train, (x_train.shape[0], x_train.shape[1], 1))\n",
        "x_train.shape"
      ]
    },
    {
      "cell_type": "code",
      "execution_count": null,
      "metadata": {
        "id": "oPPZpTeUa_ow"
      },
      "outputs": [],
      "source": [
        "from keras.models import Sequential\n",
        "from keras.layers import Dense\n",
        "from keras.layers import LSTM"
      ]
    },
    {
      "cell_type": "code",
      "execution_count": null,
      "metadata": {
        "id": "Gyh176hZaljf"
      },
      "outputs": [],
      "source": [
        "model = Sequential()\n",
        "model.add(LSTM(50, return_sequences=True, input_shape = (x_train.shape[1], 1)))\n",
        "model.add(LSTM(50, return_sequences=False))\n",
        "model.add(Dense(25))\n",
        "model.add(Dense(1))"
      ]
    },
    {
      "cell_type": "code",
      "execution_count": null,
      "metadata": {
        "id": "R5pXvGaSbx3N"
      },
      "outputs": [],
      "source": [
        "model.compile(optimizer='adam', loss= 'mean_squared_error')"
      ]
    },
    {
      "cell_type": "code",
      "execution_count": null,
      "metadata": {
        "colab": {
          "base_uri": "https://localhost:8080/"
        },
        "id": "ld8n6NEStyTl",
        "outputId": "604e2675-ddb6-4e1d-b758-36c52781a72f"
      },
      "outputs": [],
      "source": [
        "model.summary()"
      ]
    },
    {
      "cell_type": "code",
      "execution_count": null,
      "metadata": {
        "colab": {
          "base_uri": "https://localhost:8080/"
        },
        "id": "eErdJuZYcGom",
        "outputId": "12d5988c-5e28-4c1d-ba75-4416521fdb04"
      },
      "outputs": [],
      "source": [
        "model.fit(x_train, y_train, batch_size=1, epochs=1)"
      ]
    },
    {
      "cell_type": "code",
      "execution_count": null,
      "metadata": {},
      "outputs": [],
      "source": [
        "model.save('C:/Users/yakul/mutipage/yearcs/keras_model')"
      ]
    },
    {
      "cell_type": "code",
      "execution_count": null,
      "metadata": {
        "id": "4c6pC32jcWO6"
      },
      "outputs": [],
      "source": [
        "test_data = scaled_data[training_data_len -3: , :]\n",
        "x_test = []\n",
        "y_test = dataset[training_data_len:, :]\n",
        "for i in range(3, len(test_data)):\n",
        "  x_test.append(test_data[i -3:i,0])"
      ]
    },
    {
      "cell_type": "code",
      "execution_count": null,
      "metadata": {
        "id": "aWn-XUtUdRDp"
      },
      "outputs": [],
      "source": [
        "x_test = np.array(x_test)"
      ]
    },
    {
      "cell_type": "code",
      "execution_count": null,
      "metadata": {
        "colab": {
          "base_uri": "https://localhost:8080/"
        },
        "id": "v7-Oto8BeQPf",
        "outputId": "bec2e536-3e5e-4482-9453-dc1dd7ed3238"
      },
      "outputs": [],
      "source": [
        "x_test.shape"
      ]
    },
    {
      "cell_type": "code",
      "execution_count": null,
      "metadata": {
        "id": "_7rVHlI_dWRX"
      },
      "outputs": [],
      "source": [
        "x_test = np.reshape(x_test, (x_test.shape[0], x_test.shape[1], 1))"
      ]
    },
    {
      "cell_type": "code",
      "execution_count": null,
      "metadata": {
        "id": "Yh-oFOxCeHxE"
      },
      "outputs": [],
      "source": [
        "predictions = model.predict(x_test)\n",
        "predictions = scaler.inverse_transform(predictions)"
      ]
    },
    {
      "cell_type": "code",
      "execution_count": null,
      "metadata": {
        "colab": {
          "base_uri": "https://localhost:8080/"
        },
        "id": "GzjIWcrDfELx",
        "outputId": "b3759a26-c68e-477b-e347-cd460a110ab6"
      },
      "outputs": [],
      "source": [
        "rmse = np.sqrt( np.mean( predictions - y_test )**2 )\n",
        "rmse"
      ]
    },
    {
      "cell_type": "code",
      "execution_count": null,
      "metadata": {
        "colab": {
          "base_uri": "https://localhost:8080/",
          "height": 560
        },
        "id": "LI_6Ua_AfSR9",
        "outputId": "76faaaa5-ab91-43af-e51e-fecd28604408"
      },
      "outputs": [],
      "source": [
        "train = data[:training_data_len]\n",
        "prediction = data[training_data_len:]\n",
        "prediction['Predictions'] = predictions\n",
        "plt.figure(figsize=(12,6))\n",
        "plt.title('Sale Price History')\n",
        "plt.plot(df)\n",
        "plt.xlabel('Date', fontsize = 12)\n",
        "plt.ylabel('Sale Price PESO(₱)', fontsize = 12)\n",
        "plt.plot(train['Sale'])\n",
        "plt.plot(prediction[[ 'Predictions']])\n",
        "plt.legend(['TEST','TRAIN','PREDICTION'], loc = 'upper left')\n",
        "plt.show()\n"
      ]
    },
    {
      "cell_type": "code",
      "execution_count": null,
      "metadata": {},
      "outputs": [],
      "source": []
    },
    {
      "cell_type": "code",
      "execution_count": 90,
      "metadata": {},
      "outputs": [
        {
          "name": "stdout",
          "output_type": "stream",
          "text": [
            "1/1 [==============================] - 2s 2s/step\n",
            "[[1742017.9]]\n"
          ]
        }
      ],
      "source": [
        "year = pd.read_csv('C:/Users/yakul/mutipage/data/year.csv', index_col='Date',parse_dates=True)\n",
        "df.index.frequency='MS'\n",
        "newdf = year.filter(['Sale'])\n",
        "last_3_years = newdf[-3:].values\n",
        "last_3_years_scaled = scaler.transform(last_3_years)\n",
        "X_test = [] \n",
        "X_test.append(last_3_years)\n",
        "X_test = np.array(X_test)\n",
        "X_test = np.reshape(X_test, (X_test.shape[0], X_test.shape[1], 1))\n",
        "pred_sale = model.predict(X_test)\n",
        "pred_sale = scaler.inverse_transform(pred_sale)\n",
        "print(pred_sale)"
      ]
    }
  ],
  "metadata": {
    "colab": {
      "name": "yearcs.ipynb",
      "provenance": []
    },
    "kernelspec": {
      "display_name": "Python 3",
      "name": "python3"
    },
    "language_info": {
      "codemirror_mode": {
        "name": "ipython",
        "version": 3
      },
      "file_extension": ".py",
      "mimetype": "text/x-python",
      "name": "python",
      "nbconvert_exporter": "python",
      "pygments_lexer": "ipython3",
      "version": "3.10.2"
    }
  },
  "nbformat": 4,
  "nbformat_minor": 0
}
